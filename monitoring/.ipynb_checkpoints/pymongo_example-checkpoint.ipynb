{
 "cells": [
  {
   "cell_type": "code",
   "execution_count": 1,
   "id": "470255c4",
   "metadata": {},
   "outputs": [],
   "source": [
    "import pymongo"
   ]
  },
  {
   "cell_type": "code",
   "execution_count": 2,
   "id": "8bc24dad",
   "metadata": {},
   "outputs": [],
   "source": [
    "client = pymongo.MongoClient(\"mongodb://localhost:27018\")\n",
    "db = client.get_database('prediction_service')"
   ]
  },
  {
   "cell_type": "code",
   "execution_count": 4,
   "id": "fe26353c",
   "metadata": {},
   "outputs": [
    {
     "data": {
      "text/plain": [
       "{'_id': ObjectId('63a5672e861f2d1080fc2f4b'),\n",
       " 'lpep_pickup_datetime': '2021-01-01 00:15:56',\n",
       " 'PULocationID': 43,\n",
       " 'DOLocationID': 151,\n",
       " 'passenger_count': 1.0,\n",
       " 'trip_distance': 1.01,\n",
       " 'PU_DO': '43_151',\n",
       " 'prediction': 4.403834151633905}"
      ]
     },
     "execution_count": 4,
     "metadata": {},
     "output_type": "execute_result"
    }
   ],
   "source": [
    "data_collection = db.get_collection('data')\n",
    "data = list(data_collection.find())\n",
    "data[0]"
   ]
  },
  {
   "cell_type": "code",
   "execution_count": 7,
   "id": "d4cedb83",
   "metadata": {},
   "outputs": [
    {
     "data": {
      "text/plain": [
       "451"
      ]
     },
     "execution_count": 7,
     "metadata": {},
     "output_type": "execute_result"
    }
   ],
   "source": [
    "len(data)"
   ]
  },
  {
   "cell_type": "code",
   "execution_count": null,
   "id": "1c031afd",
   "metadata": {},
   "outputs": [],
   "source": []
  }
 ],
 "metadata": {
  "kernelspec": {
   "display_name": "Python 3 (ipykernel)",
   "language": "python",
   "name": "python3"
  },
  "language_info": {
   "codemirror_mode": {
    "name": "ipython",
    "version": 3
   },
   "file_extension": ".py",
   "mimetype": "text/x-python",
   "name": "python",
   "nbconvert_exporter": "python",
   "pygments_lexer": "ipython3",
   "version": "3.9.13"
  }
 },
 "nbformat": 4,
 "nbformat_minor": 5
}
